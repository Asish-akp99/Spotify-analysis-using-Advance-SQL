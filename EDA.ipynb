{
 "cells": [
  {
   "cell_type": "markdown",
   "id": "39d1f63c-201d-4c9d-a5fa-c488ce13b586",
   "metadata": {},
   "source": [
    "## EDA Analysis of Spotify"
   ]
  },
  {
   "cell_type": "markdown",
   "id": "7107102e-f9ad-49d1-9620-fd22f98aad48",
   "metadata": {},
   "source": [
    "#### 1. Import Pandas,Numpy,Seaborn,Matplotlib"
   ]
  },
  {
   "cell_type": "code",
   "execution_count": 1,
   "id": "b67494f1-46a9-44ad-803b-37e70ef986b3",
   "metadata": {},
   "outputs": [],
   "source": [
    "import numpy as np\n",
    "import pandas as pd\n",
    "import matplotlib.pyplot as plt\n",
    "import seaborn as sns\n"
   ]
  },
  {
   "cell_type": "markdown",
   "id": "470db2a5-df35-49bc-96c0-c8eac1053480",
   "metadata": {},
   "source": [
    "#### 2. Load Dataset"
   ]
  },
  {
   "cell_type": "code",
   "execution_count": 8,
   "id": "f1bf5606-af30-4fa8-a87a-0ef9de27d8b1",
   "metadata": {},
   "outputs": [
    {
     "data": {
      "text/html": [
       "<div>\n",
       "<style scoped>\n",
       "    .dataframe tbody tr th:only-of-type {\n",
       "        vertical-align: middle;\n",
       "    }\n",
       "\n",
       "    .dataframe tbody tr th {\n",
       "        vertical-align: top;\n",
       "    }\n",
       "\n",
       "    .dataframe thead th {\n",
       "        text-align: right;\n",
       "    }\n",
       "</style>\n",
       "<table border=\"1\" class=\"dataframe\">\n",
       "  <thead>\n",
       "    <tr style=\"text-align: right;\">\n",
       "      <th></th>\n",
       "      <th>Artist</th>\n",
       "      <th>Track</th>\n",
       "      <th>Album</th>\n",
       "      <th>Album_type</th>\n",
       "      <th>Danceability</th>\n",
       "      <th>Energy</th>\n",
       "      <th>Loudness</th>\n",
       "      <th>Speechiness</th>\n",
       "      <th>Acousticness</th>\n",
       "      <th>Instrumentalness</th>\n",
       "      <th>...</th>\n",
       "      <th>Title</th>\n",
       "      <th>Channel</th>\n",
       "      <th>Views</th>\n",
       "      <th>Likes</th>\n",
       "      <th>Comments</th>\n",
       "      <th>Licensed</th>\n",
       "      <th>official_video</th>\n",
       "      <th>Stream</th>\n",
       "      <th>EnergyLiveness</th>\n",
       "      <th>most_playedon</th>\n",
       "    </tr>\n",
       "  </thead>\n",
       "  <tbody>\n",
       "    <tr>\n",
       "      <th>0</th>\n",
       "      <td>Gorillaz</td>\n",
       "      <td>Feel Good Inc.</td>\n",
       "      <td>Demon Days</td>\n",
       "      <td>album</td>\n",
       "      <td>0.818</td>\n",
       "      <td>0.705</td>\n",
       "      <td>-6.679</td>\n",
       "      <td>0.1770</td>\n",
       "      <td>0.008360</td>\n",
       "      <td>0.002330</td>\n",
       "      <td>...</td>\n",
       "      <td>Gorillaz - Feel Good Inc. (Official Video)</td>\n",
       "      <td>Gorillaz</td>\n",
       "      <td>693555221</td>\n",
       "      <td>6220896</td>\n",
       "      <td>169907</td>\n",
       "      <td>TRUE</td>\n",
       "      <td>TRUE</td>\n",
       "      <td>1040234854</td>\n",
       "      <td>1.150082</td>\n",
       "      <td>Spotify</td>\n",
       "    </tr>\n",
       "    <tr>\n",
       "      <th>1</th>\n",
       "      <td>Gorillaz</td>\n",
       "      <td>Rhinestone Eyes</td>\n",
       "      <td>Plastic Beach</td>\n",
       "      <td>album</td>\n",
       "      <td>0.676</td>\n",
       "      <td>0.703</td>\n",
       "      <td>-5.815</td>\n",
       "      <td>0.0302</td>\n",
       "      <td>0.086900</td>\n",
       "      <td>0.000687</td>\n",
       "      <td>...</td>\n",
       "      <td>Gorillaz - Rhinestone Eyes [Storyboard Film] (...</td>\n",
       "      <td>Gorillaz</td>\n",
       "      <td>72011645</td>\n",
       "      <td>1079128</td>\n",
       "      <td>31003</td>\n",
       "      <td>TRUE</td>\n",
       "      <td>TRUE</td>\n",
       "      <td>310083733</td>\n",
       "      <td>15.183585</td>\n",
       "      <td>Spotify</td>\n",
       "    </tr>\n",
       "    <tr>\n",
       "      <th>2</th>\n",
       "      <td>Gorillaz</td>\n",
       "      <td>New Gold (feat. Tame Impala and Bootie Brown)</td>\n",
       "      <td>New Gold (feat. Tame Impala and Bootie Brown)</td>\n",
       "      <td>single</td>\n",
       "      <td>0.695</td>\n",
       "      <td>0.923</td>\n",
       "      <td>-3.930</td>\n",
       "      <td>0.0522</td>\n",
       "      <td>0.042500</td>\n",
       "      <td>0.046900</td>\n",
       "      <td>...</td>\n",
       "      <td>Gorillaz - New Gold ft. Tame Impala &amp; Bootie B...</td>\n",
       "      <td>Gorillaz</td>\n",
       "      <td>8435055</td>\n",
       "      <td>282142</td>\n",
       "      <td>7399</td>\n",
       "      <td>TRUE</td>\n",
       "      <td>TRUE</td>\n",
       "      <td>63063467</td>\n",
       "      <td>7.956897</td>\n",
       "      <td>Spotify</td>\n",
       "    </tr>\n",
       "    <tr>\n",
       "      <th>3</th>\n",
       "      <td>Gorillaz</td>\n",
       "      <td>On Melancholy Hill</td>\n",
       "      <td>Plastic Beach</td>\n",
       "      <td>album</td>\n",
       "      <td>0.689</td>\n",
       "      <td>0.739</td>\n",
       "      <td>-5.810</td>\n",
       "      <td>0.0260</td>\n",
       "      <td>0.000015</td>\n",
       "      <td>0.509000</td>\n",
       "      <td>...</td>\n",
       "      <td>Gorillaz - On Melancholy Hill (Official Video)</td>\n",
       "      <td>Gorillaz</td>\n",
       "      <td>211754952</td>\n",
       "      <td>1788577</td>\n",
       "      <td>55229</td>\n",
       "      <td>TRUE</td>\n",
       "      <td>TRUE</td>\n",
       "      <td>434663559</td>\n",
       "      <td>11.546875</td>\n",
       "      <td>Spotify</td>\n",
       "    </tr>\n",
       "    <tr>\n",
       "      <th>4</th>\n",
       "      <td>Gorillaz</td>\n",
       "      <td>Clint Eastwood</td>\n",
       "      <td>Gorillaz</td>\n",
       "      <td>album</td>\n",
       "      <td>0.663</td>\n",
       "      <td>0.694</td>\n",
       "      <td>-8.627</td>\n",
       "      <td>0.1710</td>\n",
       "      <td>0.025300</td>\n",
       "      <td>0.000000</td>\n",
       "      <td>...</td>\n",
       "      <td>Gorillaz - Clint Eastwood (Official Video)</td>\n",
       "      <td>Gorillaz</td>\n",
       "      <td>618480958</td>\n",
       "      <td>6197318</td>\n",
       "      <td>155930</td>\n",
       "      <td>TRUE</td>\n",
       "      <td>TRUE</td>\n",
       "      <td>617259738</td>\n",
       "      <td>9.942693</td>\n",
       "      <td>Youtube</td>\n",
       "    </tr>\n",
       "  </tbody>\n",
       "</table>\n",
       "<p>5 rows × 24 columns</p>\n",
       "</div>"
      ],
      "text/plain": [
       "     Artist                                          Track  \\\n",
       "0  Gorillaz                                 Feel Good Inc.   \n",
       "1  Gorillaz                                Rhinestone Eyes   \n",
       "2  Gorillaz  New Gold (feat. Tame Impala and Bootie Brown)   \n",
       "3  Gorillaz                             On Melancholy Hill   \n",
       "4  Gorillaz                                 Clint Eastwood   \n",
       "\n",
       "                                           Album Album_type  Danceability  \\\n",
       "0                                     Demon Days      album         0.818   \n",
       "1                                  Plastic Beach      album         0.676   \n",
       "2  New Gold (feat. Tame Impala and Bootie Brown)     single         0.695   \n",
       "3                                  Plastic Beach      album         0.689   \n",
       "4                                       Gorillaz      album         0.663   \n",
       "\n",
       "   Energy  Loudness  Speechiness  Acousticness  Instrumentalness  ...  \\\n",
       "0   0.705    -6.679       0.1770      0.008360          0.002330  ...   \n",
       "1   0.703    -5.815       0.0302      0.086900          0.000687  ...   \n",
       "2   0.923    -3.930       0.0522      0.042500          0.046900  ...   \n",
       "3   0.739    -5.810       0.0260      0.000015          0.509000  ...   \n",
       "4   0.694    -8.627       0.1710      0.025300          0.000000  ...   \n",
       "\n",
       "                                               Title   Channel      Views  \\\n",
       "0         Gorillaz - Feel Good Inc. (Official Video)  Gorillaz  693555221   \n",
       "1  Gorillaz - Rhinestone Eyes [Storyboard Film] (...  Gorillaz   72011645   \n",
       "2  Gorillaz - New Gold ft. Tame Impala & Bootie B...  Gorillaz    8435055   \n",
       "3     Gorillaz - On Melancholy Hill (Official Video)  Gorillaz  211754952   \n",
       "4         Gorillaz - Clint Eastwood (Official Video)  Gorillaz  618480958   \n",
       "\n",
       "     Likes Comments Licensed  official_video      Stream  EnergyLiveness  \\\n",
       "0  6220896   169907     TRUE            TRUE  1040234854        1.150082   \n",
       "1  1079128    31003     TRUE            TRUE   310083733       15.183585   \n",
       "2   282142     7399     TRUE            TRUE    63063467        7.956897   \n",
       "3  1788577    55229     TRUE            TRUE   434663559       11.546875   \n",
       "4  6197318   155930     TRUE            TRUE   617259738        9.942693   \n",
       "\n",
       "  most_playedon  \n",
       "0       Spotify  \n",
       "1       Spotify  \n",
       "2       Spotify  \n",
       "3       Spotify  \n",
       "4       Youtube  \n",
       "\n",
       "[5 rows x 24 columns]"
      ]
     },
     "execution_count": 8,
     "metadata": {},
     "output_type": "execute_result"
    }
   ],
   "source": [
    "df=pd.read_csv('spotify.csv')\n",
    "df.head()"
   ]
  },
  {
   "cell_type": "markdown",
   "id": "2d4a0826-a148-4130-9555-db60ff146021",
   "metadata": {},
   "source": [
    "#### 3. No of rows and columns"
   ]
  },
  {
   "cell_type": "code",
   "execution_count": 9,
   "id": "3d288f2d-1761-4b7f-b86a-290f11770663",
   "metadata": {},
   "outputs": [
    {
     "data": {
      "text/plain": [
       "(20594, 24)"
      ]
     },
     "execution_count": 9,
     "metadata": {},
     "output_type": "execute_result"
    }
   ],
   "source": [
    "df.shape"
   ]
  },
  {
   "cell_type": "markdown",
   "id": "f51939be-c154-4334-8d8a-6a34b6c49b3c",
   "metadata": {},
   "source": [
    "#### 4. Column details"
   ]
  },
  {
   "cell_type": "code",
   "execution_count": 10,
   "id": "fa1c5ebe-a102-44a7-ac55-d738bacec4b1",
   "metadata": {},
   "outputs": [
    {
     "name": "stdout",
     "output_type": "stream",
     "text": [
      "<class 'pandas.core.frame.DataFrame'>\n",
      "RangeIndex: 20594 entries, 0 to 20593\n",
      "Data columns (total 24 columns):\n",
      " #   Column            Non-Null Count  Dtype  \n",
      "---  ------            --------------  -----  \n",
      " 0   Artist            20594 non-null  object \n",
      " 1   Track             20594 non-null  object \n",
      " 2   Album             20594 non-null  object \n",
      " 3   Album_type        20594 non-null  object \n",
      " 4   Danceability      20594 non-null  float64\n",
      " 5   Energy            20594 non-null  float64\n",
      " 6   Loudness          20594 non-null  float64\n",
      " 7   Speechiness       20594 non-null  float64\n",
      " 8   Acousticness      20594 non-null  float64\n",
      " 9   Instrumentalness  20594 non-null  float64\n",
      " 10  Liveness          20594 non-null  float64\n",
      " 11  Valence           20594 non-null  float64\n",
      " 12  Tempo             20594 non-null  float64\n",
      " 13  Duration_min      20594 non-null  float64\n",
      " 14  Title             20594 non-null  object \n",
      " 15  Channel           20594 non-null  object \n",
      " 16  Views             20594 non-null  int64  \n",
      " 17  Likes             20594 non-null  int64  \n",
      " 18  Comments          20594 non-null  int64  \n",
      " 19  Licensed          20594 non-null  object \n",
      " 20  official_video    20594 non-null  object \n",
      " 21  Stream            20594 non-null  int64  \n",
      " 22  EnergyLiveness    20592 non-null  float64\n",
      " 23  most_playedon     20594 non-null  object \n",
      "dtypes: float64(11), int64(4), object(9)\n",
      "memory usage: 3.8+ MB\n"
     ]
    }
   ],
   "source": [
    "df.info()"
   ]
  },
  {
   "cell_type": "markdown",
   "id": "b7a8eeb3-cf63-40ba-92f5-294666106bf8",
   "metadata": {},
   "source": [
    "##### 5. Missing values"
   ]
  },
  {
   "cell_type": "code",
   "execution_count": 11,
   "id": "077feeee-482e-438b-ba8d-faf81c206e03",
   "metadata": {},
   "outputs": [
    {
     "data": {
      "text/plain": [
       "Artist              0\n",
       "Track               0\n",
       "Album               0\n",
       "Album_type          0\n",
       "Danceability        0\n",
       "Energy              0\n",
       "Loudness            0\n",
       "Speechiness         0\n",
       "Acousticness        0\n",
       "Instrumentalness    0\n",
       "Liveness            0\n",
       "Valence             0\n",
       "Tempo               0\n",
       "Duration_min        0\n",
       "Title               0\n",
       "Channel             0\n",
       "Views               0\n",
       "Likes               0\n",
       "Comments            0\n",
       "Licensed            0\n",
       "official_video      0\n",
       "Stream              0\n",
       "EnergyLiveness      2\n",
       "most_playedon       0\n",
       "dtype: int64"
      ]
     },
     "execution_count": 11,
     "metadata": {},
     "output_type": "execute_result"
    }
   ],
   "source": [
    "df.isnull().sum()"
   ]
  },
  {
   "cell_type": "markdown",
   "id": "26604fa6-67d5-4d83-8fe1-54c37b4043fa",
   "metadata": {},
   "source": [
    "#### 5. Statistics of the data\n"
   ]
  },
  {
   "cell_type": "code",
   "execution_count": 14,
   "id": "20f82a7c-41eb-4862-99e0-cfb61b87e1cf",
   "metadata": {},
   "outputs": [
    {
     "data": {
      "text/html": [
       "<div>\n",
       "<style scoped>\n",
       "    .dataframe tbody tr th:only-of-type {\n",
       "        vertical-align: middle;\n",
       "    }\n",
       "\n",
       "    .dataframe tbody tr th {\n",
       "        vertical-align: top;\n",
       "    }\n",
       "\n",
       "    .dataframe thead th {\n",
       "        text-align: right;\n",
       "    }\n",
       "</style>\n",
       "<table border=\"1\" class=\"dataframe\">\n",
       "  <thead>\n",
       "    <tr style=\"text-align: right;\">\n",
       "      <th></th>\n",
       "      <th>Danceability</th>\n",
       "      <th>Energy</th>\n",
       "      <th>Loudness</th>\n",
       "      <th>Speechiness</th>\n",
       "      <th>Acousticness</th>\n",
       "      <th>Instrumentalness</th>\n",
       "      <th>Liveness</th>\n",
       "      <th>Valence</th>\n",
       "      <th>Tempo</th>\n",
       "      <th>Duration_min</th>\n",
       "      <th>Views</th>\n",
       "      <th>Likes</th>\n",
       "      <th>Comments</th>\n",
       "      <th>Stream</th>\n",
       "      <th>EnergyLiveness</th>\n",
       "    </tr>\n",
       "  </thead>\n",
       "  <tbody>\n",
       "    <tr>\n",
       "      <th>count</th>\n",
       "      <td>20594.000000</td>\n",
       "      <td>20594.000000</td>\n",
       "      <td>20594.000000</td>\n",
       "      <td>20594.000000</td>\n",
       "      <td>20594.000000</td>\n",
       "      <td>20594.000000</td>\n",
       "      <td>20594.000000</td>\n",
       "      <td>20594.000000</td>\n",
       "      <td>20594.000000</td>\n",
       "      <td>20594.000000</td>\n",
       "      <td>2.059400e+04</td>\n",
       "      <td>2.059400e+04</td>\n",
       "      <td>2.059400e+04</td>\n",
       "      <td>2.059400e+04</td>\n",
       "      <td>20592.000000</td>\n",
       "    </tr>\n",
       "    <tr>\n",
       "      <th>mean</th>\n",
       "      <td>0.620102</td>\n",
       "      <td>0.635176</td>\n",
       "      <td>-7.678254</td>\n",
       "      <td>0.096733</td>\n",
       "      <td>0.291391</td>\n",
       "      <td>0.056162</td>\n",
       "      <td>0.193653</td>\n",
       "      <td>0.530077</td>\n",
       "      <td>120.562616</td>\n",
       "      <td>3.742439</td>\n",
       "      <td>9.203740e+07</td>\n",
       "      <td>6.479902e+05</td>\n",
       "      <td>2.684679e+04</td>\n",
       "      <td>1.326446e+08</td>\n",
       "      <td>5.167227</td>\n",
       "    </tr>\n",
       "    <tr>\n",
       "      <th>std</th>\n",
       "      <td>0.165504</td>\n",
       "      <td>0.214274</td>\n",
       "      <td>4.639481</td>\n",
       "      <td>0.112182</td>\n",
       "      <td>0.286117</td>\n",
       "      <td>0.193622</td>\n",
       "      <td>0.168832</td>\n",
       "      <td>0.245542</td>\n",
       "      <td>29.588093</td>\n",
       "      <td>2.085211</td>\n",
       "      <td>2.726026e+08</td>\n",
       "      <td>1.773648e+06</td>\n",
       "      <td>1.911751e+05</td>\n",
       "      <td>2.423582e+08</td>\n",
       "      <td>4.117431</td>\n",
       "    </tr>\n",
       "    <tr>\n",
       "      <th>min</th>\n",
       "      <td>0.000000</td>\n",
       "      <td>0.000000</td>\n",
       "      <td>-46.251000</td>\n",
       "      <td>0.000000</td>\n",
       "      <td>0.000000</td>\n",
       "      <td>0.000000</td>\n",
       "      <td>0.000000</td>\n",
       "      <td>0.000000</td>\n",
       "      <td>0.000000</td>\n",
       "      <td>0.000000</td>\n",
       "      <td>0.000000e+00</td>\n",
       "      <td>0.000000e+00</td>\n",
       "      <td>0.000000e+00</td>\n",
       "      <td>0.000000e+00</td>\n",
       "      <td>0.000049</td>\n",
       "    </tr>\n",
       "    <tr>\n",
       "      <th>25%</th>\n",
       "      <td>0.519000</td>\n",
       "      <td>0.507000</td>\n",
       "      <td>-8.868000</td>\n",
       "      <td>0.035700</td>\n",
       "      <td>0.045200</td>\n",
       "      <td>0.000000</td>\n",
       "      <td>0.094100</td>\n",
       "      <td>0.340000</td>\n",
       "      <td>96.994000</td>\n",
       "      <td>2.996746</td>\n",
       "      <td>1.478284e+06</td>\n",
       "      <td>1.754200e+04</td>\n",
       "      <td>4.060000e+02</td>\n",
       "      <td>1.559098e+07</td>\n",
       "      <td>2.386190</td>\n",
       "    </tr>\n",
       "    <tr>\n",
       "      <th>50%</th>\n",
       "      <td>0.638000</td>\n",
       "      <td>0.666000</td>\n",
       "      <td>-6.540500</td>\n",
       "      <td>0.050650</td>\n",
       "      <td>0.193000</td>\n",
       "      <td>0.000002</td>\n",
       "      <td>0.125000</td>\n",
       "      <td>0.538000</td>\n",
       "      <td>119.959000</td>\n",
       "      <td>3.551267</td>\n",
       "      <td>1.331348e+07</td>\n",
       "      <td>1.153155e+05</td>\n",
       "      <td>3.006000e+03</td>\n",
       "      <td>4.730525e+07</td>\n",
       "      <td>4.256881</td>\n",
       "    </tr>\n",
       "    <tr>\n",
       "      <th>75%</th>\n",
       "      <td>0.741000</td>\n",
       "      <td>0.798000</td>\n",
       "      <td>-4.935000</td>\n",
       "      <td>0.104000</td>\n",
       "      <td>0.476750</td>\n",
       "      <td>0.000474</td>\n",
       "      <td>0.237000</td>\n",
       "      <td>0.727000</td>\n",
       "      <td>139.923500</td>\n",
       "      <td>4.202163</td>\n",
       "      <td>6.739682e+07</td>\n",
       "      <td>5.000198e+05</td>\n",
       "      <td>1.373675e+04</td>\n",
       "      <td>1.343453e+08</td>\n",
       "      <td>6.822034</td>\n",
       "    </tr>\n",
       "    <tr>\n",
       "      <th>max</th>\n",
       "      <td>0.975000</td>\n",
       "      <td>1.000000</td>\n",
       "      <td>0.920000</td>\n",
       "      <td>0.964000</td>\n",
       "      <td>0.996000</td>\n",
       "      <td>1.000000</td>\n",
       "      <td>1.000000</td>\n",
       "      <td>0.993000</td>\n",
       "      <td>243.372000</td>\n",
       "      <td>77.934300</td>\n",
       "      <td>8.079649e+09</td>\n",
       "      <td>5.078865e+07</td>\n",
       "      <td>1.608314e+07</td>\n",
       "      <td>3.386520e+09</td>\n",
       "      <td>59.113924</td>\n",
       "    </tr>\n",
       "  </tbody>\n",
       "</table>\n",
       "</div>"
      ],
      "text/plain": [
       "       Danceability        Energy      Loudness   Speechiness  Acousticness  \\\n",
       "count  20594.000000  20594.000000  20594.000000  20594.000000  20594.000000   \n",
       "mean       0.620102      0.635176     -7.678254      0.096733      0.291391   \n",
       "std        0.165504      0.214274      4.639481      0.112182      0.286117   \n",
       "min        0.000000      0.000000    -46.251000      0.000000      0.000000   \n",
       "25%        0.519000      0.507000     -8.868000      0.035700      0.045200   \n",
       "50%        0.638000      0.666000     -6.540500      0.050650      0.193000   \n",
       "75%        0.741000      0.798000     -4.935000      0.104000      0.476750   \n",
       "max        0.975000      1.000000      0.920000      0.964000      0.996000   \n",
       "\n",
       "       Instrumentalness      Liveness       Valence         Tempo  \\\n",
       "count      20594.000000  20594.000000  20594.000000  20594.000000   \n",
       "mean           0.056162      0.193653      0.530077    120.562616   \n",
       "std            0.193622      0.168832      0.245542     29.588093   \n",
       "min            0.000000      0.000000      0.000000      0.000000   \n",
       "25%            0.000000      0.094100      0.340000     96.994000   \n",
       "50%            0.000002      0.125000      0.538000    119.959000   \n",
       "75%            0.000474      0.237000      0.727000    139.923500   \n",
       "max            1.000000      1.000000      0.993000    243.372000   \n",
       "\n",
       "       Duration_min         Views         Likes      Comments        Stream  \\\n",
       "count  20594.000000  2.059400e+04  2.059400e+04  2.059400e+04  2.059400e+04   \n",
       "mean       3.742439  9.203740e+07  6.479902e+05  2.684679e+04  1.326446e+08   \n",
       "std        2.085211  2.726026e+08  1.773648e+06  1.911751e+05  2.423582e+08   \n",
       "min        0.000000  0.000000e+00  0.000000e+00  0.000000e+00  0.000000e+00   \n",
       "25%        2.996746  1.478284e+06  1.754200e+04  4.060000e+02  1.559098e+07   \n",
       "50%        3.551267  1.331348e+07  1.153155e+05  3.006000e+03  4.730525e+07   \n",
       "75%        4.202163  6.739682e+07  5.000198e+05  1.373675e+04  1.343453e+08   \n",
       "max       77.934300  8.079649e+09  5.078865e+07  1.608314e+07  3.386520e+09   \n",
       "\n",
       "       EnergyLiveness  \n",
       "count    20592.000000  \n",
       "mean         5.167227  \n",
       "std          4.117431  \n",
       "min          0.000049  \n",
       "25%          2.386190  \n",
       "50%          4.256881  \n",
       "75%          6.822034  \n",
       "max         59.113924  "
      ]
     },
     "execution_count": 14,
     "metadata": {},
     "output_type": "execute_result"
    }
   ],
   "source": [
    "df.describe()"
   ]
  },
  {
   "cell_type": "markdown",
   "id": "8d7d0fd2-3b49-4679-9beb-743b342b8410",
   "metadata": {},
   "source": [
    "#### 6. Top 5 most popular artist\n",
    "        "
   ]
  },
  {
   "cell_type": "code",
   "execution_count": 20,
   "id": "83e1d035-7589-4fa6-8c30-736df92b7579",
   "metadata": {},
   "outputs": [
    {
     "data": {
      "text/plain": [
       "Artist\n",
       "$NOT             10\n",
       "Nicki Minaj      10\n",
       "Niro             10\n",
       "Nipsey Hussle    10\n",
       "Nio Garcia       10\n",
       "Name: Track, dtype: int64"
      ]
     },
     "execution_count": 20,
     "metadata": {},
     "output_type": "execute_result"
    }
   ],
   "source": [
    "top_five_artist = df.groupby('Artist').count().sort_values(by='Track',ascending=False)['Track'][:5]\n",
    "top_five_artist\n"
   ]
  },
  {
   "cell_type": "code",
   "execution_count": 22,
   "id": "07fdcdc3-6808-42be-a969-6e9227756469",
   "metadata": {},
   "outputs": [
    {
     "data": {
      "image/png": "[encoded data removed]",
      "text/plain": [
       "<Figure size 640x480 with 1 Axes>"
      ]
     },
     "metadata": {},
     "output_type": "display_data"
    }
   ],
   "source": [
    "top_five_artist.plot.barh()\n",
    "plt.show()"
   ]
  },
  {
   "cell_type": "markdown",
   "id": "ad9284c6-e054-4770-9b3a-92e3626a8ab1",
   "metadata": {},
   "source": [
    "#### 7. Top 10 artist"
   ]
  },
  {
   "cell_type": "code",
   "execution_count": 26,
   "id": "6ca3c5d9-72d5-4007-8286-3bce25a8f408",
   "metadata": {},
   "outputs": [
    {
     "data": {
      "text/plain": [
       "Artist\n",
       "Gorillaz              10\n",
       "Thaman S              10\n",
       "Alan Gomez            10\n",
       "RÜFÜS DU SOL          10\n",
       "Bo Burnham            10\n",
       "Lin-Manuel Miranda    10\n",
       "Kontra K              10\n",
       "Elevation Worship     10\n",
       "Amit Trivedi          10\n",
       "Mustard               10\n",
       "Name: count, dtype: int64"
      ]
     },
     "execution_count": 26,
     "metadata": {},
     "output_type": "execute_result"
    }
   ],
   "source": [
    "counts = df['Artist'].value_counts()\n",
    "counts.head(10)\n"
   ]
  },
  {
   "cell_type": "markdown",
   "id": "94be933f-5fa8-4f34-a4e3-4fdca97dd5c0",
   "metadata": {},
   "source": [
    "#### 8. Top 5 loudest song"
   ]
  },
  {
   "cell_type": "code",
   "execution_count": 30,
   "id": "c2dbf871-fafd-403b-a445-bf15a4011f72",
   "metadata": {},
   "outputs": [
    {
     "data": {
      "text/html": [
       "<div>\n",
       "<style scoped>\n",
       "    .dataframe tbody tr th:only-of-type {\n",
       "        vertical-align: middle;\n",
       "    }\n",
       "\n",
       "    .dataframe tbody tr th {\n",
       "        vertical-align: top;\n",
       "    }\n",
       "\n",
       "    .dataframe thead th {\n",
       "        text-align: right;\n",
       "    }\n",
       "</style>\n",
       "<table border=\"1\" class=\"dataframe\">\n",
       "  <thead>\n",
       "    <tr style=\"text-align: right;\">\n",
       "      <th></th>\n",
       "      <th>Loudness</th>\n",
       "      <th>Track</th>\n",
       "    </tr>\n",
       "  </thead>\n",
       "  <tbody>\n",
       "    <tr>\n",
       "      <th>13777</th>\n",
       "      <td>-46.251</td>\n",
       "      <td>Cricket Sound 4 - Loopable With No Fade</td>\n",
       "    </tr>\n",
       "    <tr>\n",
       "      <th>4045</th>\n",
       "      <td>-44.761</td>\n",
       "      <td>Enfantillages pittoresques: II. Berceuse</td>\n",
       "    </tr>\n",
       "    <tr>\n",
       "      <th>7086</th>\n",
       "      <td>-43.988</td>\n",
       "      <td>The Nutcracker Suite, Op. 71a, TH 35: IIb. Dan...</td>\n",
       "    </tr>\n",
       "    <tr>\n",
       "      <th>5330</th>\n",
       "      <td>-41.932</td>\n",
       "      <td>Kinderszenen, Op. 15: 1. Von fremden Ländern u...</td>\n",
       "    </tr>\n",
       "    <tr>\n",
       "      <th>14858</th>\n",
       "      <td>-41.766</td>\n",
       "      <td>Key</td>\n",
       "    </tr>\n",
       "  </tbody>\n",
       "</table>\n",
       "</div>"
      ],
      "text/plain": [
       "       Loudness                                              Track\n",
       "13777   -46.251            Cricket Sound 4 - Loopable With No Fade\n",
       "4045    -44.761           Enfantillages pittoresques: II. Berceuse\n",
       "7086    -43.988  The Nutcracker Suite, Op. 71a, TH 35: IIb. Dan...\n",
       "5330    -41.932  Kinderszenen, Op. 15: 1. Von fremden Ländern u...\n",
       "14858   -41.766                                                Key"
      ]
     },
     "execution_count": 30,
     "metadata": {},
     "output_type": "execute_result"
    }
   ],
   "source": [
    "top_five_loudest = df[['Loudness','Track']].sort_values(by='Loudness',ascending=True)[:5]\n",
    "top_five_loudest"
   ]
  },
  {
   "cell_type": "code",
   "execution_count": 33,
   "id": "19215e16-1f67-47b4-97f3-a61fecbc3110",
   "metadata": {},
   "outputs": [
    {
     "data": {
      "text/plain": [
       "Text(0.5, 1.0, 'Top 5 Loudest Track')"
      ]
     },
     "execution_count": 33,
     "metadata": {},
     "output_type": "execute_result"
    },
    {
     "data": {
      "image/png": "[encoded data removed]",
      "text/plain": [
       "<Figure size 640x480 with 1 Axes>"
      ]
     },
     "metadata": {},
     "output_type": "display_data"
    }
   ],
   "source": [
    "\n",
    "sns.barplot(x='Loudness',y='Track',data=top_five_loudest)\n",
    "plt.title('Top 5 Loudest Track')"
   ]
  },
  {
   "cell_type": "markdown",
   "id": "e94006a7-4618-4ebb-8911-809d1ec932fe",
   "metadata": {},
   "source": [
    "#### 9. Artist with most Danceability song"
   ]
  },
  {
   "cell_type": "code",
   "execution_count": 36,
   "id": "0181d374-a240-447d-bc93-d3bba270820a",
   "metadata": {},
   "outputs": [
    {
     "data": {
      "text/html": [
       "<div>\n",
       "<style scoped>\n",
       "    .dataframe tbody tr th:only-of-type {\n",
       "        vertical-align: middle;\n",
       "    }\n",
       "\n",
       "    .dataframe tbody tr th {\n",
       "        vertical-align: top;\n",
       "    }\n",
       "\n",
       "    .dataframe thead th {\n",
       "        text-align: right;\n",
       "    }\n",
       "</style>\n",
       "<table border=\"1\" class=\"dataframe\">\n",
       "  <thead>\n",
       "    <tr style=\"text-align: right;\">\n",
       "      <th></th>\n",
       "      <th>Artist</th>\n",
       "      <th>Danceability</th>\n",
       "      <th>Track</th>\n",
       "    </tr>\n",
       "  </thead>\n",
       "  <tbody>\n",
       "    <tr>\n",
       "      <th>16466</th>\n",
       "      <td>BIA</td>\n",
       "      <td>0.975</td>\n",
       "      <td>CAN'T TOUCH THIS</td>\n",
       "    </tr>\n",
       "    <tr>\n",
       "      <th>18718</th>\n",
       "      <td>Dave</td>\n",
       "      <td>0.975</td>\n",
       "      <td>Funky Friday</td>\n",
       "    </tr>\n",
       "    <tr>\n",
       "      <th>750</th>\n",
       "      <td>Timbaland</td>\n",
       "      <td>0.975</td>\n",
       "      <td>Give It To Me</td>\n",
       "    </tr>\n",
       "    <tr>\n",
       "      <th>8449</th>\n",
       "      <td>Xavier Wulf</td>\n",
       "      <td>0.973</td>\n",
       "      <td>Psycho Pass</td>\n",
       "    </tr>\n",
       "    <tr>\n",
       "      <th>1212</th>\n",
       "      <td>Juicy J</td>\n",
       "      <td>0.971</td>\n",
       "      <td>RIP Young (feat. Project Pat &amp; Juicy J) - Remix</td>\n",
       "    </tr>\n",
       "    <tr>\n",
       "      <th>3257</th>\n",
       "      <td>Project Pat</td>\n",
       "      <td>0.971</td>\n",
       "      <td>RIP Young (feat. Project Pat &amp; Juicy J) - Remix</td>\n",
       "    </tr>\n",
       "    <tr>\n",
       "      <th>18546</th>\n",
       "      <td>DaBaby</td>\n",
       "      <td>0.970</td>\n",
       "      <td>Baby (Lil Baby feat. DaBaby)</td>\n",
       "    </tr>\n",
       "  </tbody>\n",
       "</table>\n",
       "</div>"
      ],
      "text/plain": [
       "            Artist  Danceability  \\\n",
       "16466          BIA         0.975   \n",
       "18718         Dave         0.975   \n",
       "750      Timbaland         0.975   \n",
       "8449   Xavier Wulf         0.973   \n",
       "1212       Juicy J         0.971   \n",
       "3257   Project Pat         0.971   \n",
       "18546       DaBaby         0.970   \n",
       "\n",
       "                                                 Track  \n",
       "16466                                 CAN'T TOUCH THIS  \n",
       "18718                                     Funky Friday  \n",
       "750                                      Give It To Me  \n",
       "8449                                       Psycho Pass  \n",
       "1212   RIP Young (feat. Project Pat & Juicy J) - Remix  \n",
       "3257   RIP Young (feat. Project Pat & Juicy J) - Remix  \n",
       "18546                     Baby (Lil Baby feat. DaBaby)  "
      ]
     },
     "execution_count": 36,
     "metadata": {},
     "output_type": "execute_result"
    }
   ],
   "source": [
    "top_artist_danceability = df[['Artist','Danceability','Track']].sort_values(by='Danceability', ascending = False)[:7]\n",
    "top_artist_danceability"
   ]
  },
  {
   "cell_type": "code",
   "execution_count": 39,
   "id": "4c69022a-4419-4b94-a600-73fbb79f2c80",
   "metadata": {},
   "outputs": [
    {
     "data": {
      "image/png": "[encoded data removed]",
      "text/plain": [
       "<Figure size 1200x700 with 1 Axes>"
      ]
     },
     "metadata": {},
     "output_type": "display_data"
    }
   ],
   "source": [
    "plt.figure(figsize=(12,7))\n",
    "sns.barplot(x='Danceability',y='Artist',data=top_artist_danceability)\n",
    "plt.show()"
   ]
  },
  {
   "cell_type": "markdown",
   "id": "7f512395-eab3-4ed0-a5ce-ddeb44a0c3f1",
   "metadata": {},
   "source": [
    "#### 10. Top 10 most Instrumentalness Track\n"
   ]
  },
  {
   "cell_type": "code",
   "execution_count": 41,
   "id": "66cd5e8c-09ed-4723-aafe-73b7b049cad1",
   "metadata": {},
   "outputs": [
    {
     "data": {
      "text/html": [
       "<div>\n",
       "<style scoped>\n",
       "    .dataframe tbody tr th:only-of-type {\n",
       "        vertical-align: middle;\n",
       "    }\n",
       "\n",
       "    .dataframe tbody tr th {\n",
       "        vertical-align: top;\n",
       "    }\n",
       "\n",
       "    .dataframe thead th {\n",
       "        text-align: right;\n",
       "    }\n",
       "</style>\n",
       "<table border=\"1\" class=\"dataframe\">\n",
       "  <thead>\n",
       "    <tr style=\"text-align: right;\">\n",
       "      <th></th>\n",
       "      <th>Track</th>\n",
       "      <th>Instrumentalness</th>\n",
       "    </tr>\n",
       "  </thead>\n",
       "  <tbody>\n",
       "    <tr>\n",
       "      <th>15513</th>\n",
       "      <td>Air Conditioner - Loopable with no fade</td>\n",
       "      <td>1.000</td>\n",
       "    </tr>\n",
       "    <tr>\n",
       "      <th>15506</th>\n",
       "      <td>Pure Brown Noise - Loopable with no fade</td>\n",
       "      <td>1.000</td>\n",
       "    </tr>\n",
       "    <tr>\n",
       "      <th>15504</th>\n",
       "      <td>Clean White Noise - Loopable with no fade</td>\n",
       "      <td>1.000</td>\n",
       "    </tr>\n",
       "    <tr>\n",
       "      <th>13778</th>\n",
       "      <td>Clean White Noise - Loopable, No Fade</td>\n",
       "      <td>1.000</td>\n",
       "    </tr>\n",
       "    <tr>\n",
       "      <th>13775</th>\n",
       "      <td>Soothing White Noise - Loopable, No Fade</td>\n",
       "      <td>1.000</td>\n",
       "    </tr>\n",
       "    <tr>\n",
       "      <th>13772</th>\n",
       "      <td>Air Conditioner - Loopable with no fade</td>\n",
       "      <td>1.000</td>\n",
       "    </tr>\n",
       "    <tr>\n",
       "      <th>13770</th>\n",
       "      <td>Pure Brown Noise - Loopable with no fade</td>\n",
       "      <td>1.000</td>\n",
       "    </tr>\n",
       "    <tr>\n",
       "      <th>13769</th>\n",
       "      <td>Clean White Noise - Loopable with no fade</td>\n",
       "      <td>1.000</td>\n",
       "    </tr>\n",
       "    <tr>\n",
       "      <th>15511</th>\n",
       "      <td>White Noise Relaxation for Calming Down Fussy ...</td>\n",
       "      <td>0.999</td>\n",
       "    </tr>\n",
       "    <tr>\n",
       "      <th>9312</th>\n",
       "      <td>White Noise Waves</td>\n",
       "      <td>0.995</td>\n",
       "    </tr>\n",
       "  </tbody>\n",
       "</table>\n",
       "</div>"
      ],
      "text/plain": [
       "                                                   Track  Instrumentalness\n",
       "15513            Air Conditioner - Loopable with no fade             1.000\n",
       "15506           Pure Brown Noise - Loopable with no fade             1.000\n",
       "15504          Clean White Noise - Loopable with no fade             1.000\n",
       "13778              Clean White Noise - Loopable, No Fade             1.000\n",
       "13775           Soothing White Noise - Loopable, No Fade             1.000\n",
       "13772            Air Conditioner - Loopable with no fade             1.000\n",
       "13770           Pure Brown Noise - Loopable with no fade             1.000\n",
       "13769          Clean White Noise - Loopable with no fade             1.000\n",
       "15511  White Noise Relaxation for Calming Down Fussy ...             0.999\n",
       "9312                                   White Noise Waves             0.995"
      ]
     },
     "execution_count": 41,
     "metadata": {},
     "output_type": "execute_result"
    }
   ],
   "source": [
    "top_instrumental_track = df[['Track','Instrumentalness']].sort_values(by='Instrumentalness', ascending = False)[:10]\n",
    "top_instrumental_track"
   ]
  },
  {
   "cell_type": "code",
   "execution_count": 50,
   "id": "de48dfc6-82b7-4993-88ac-9ef8632f9d86",
   "metadata": {},
   "outputs": [
    {
     "data": {
      "image/png": "[encoded data removed]",
      "text/plain": [
       "<Figure size 640x480 with 1 Axes>"
      ]
     },
     "metadata": {},
     "output_type": "display_data"
    }
   ],
   "source": [
    "plt.pie(x='Instrumentalness', data=top_instrumental_track , autopct='%1.2f%%' , labels = top_instrumental_track.Track)\n",
    "plt.title('Top_10_instrumental_song')\n",
    "plt.show()"
   ]
  }
 ],
 "metadata": {
  "kernelspec": {
   "display_name": "Python 3 (ipykernel)",
   "language": "python",
   "name": "python3"
  },
  "language_info": {
   "codemirror_mode": {
    "name": "ipython",
    "version": 3
   },
   "file_extension": ".py",
   "mimetype": "text/x-python",
   "name": "python",
   "nbconvert_exporter": "python",
   "pygments_lexer": "ipython3",
   "version": "3.12.5"
  }
 },
 "nbformat": 4,
 "nbformat_minor": 5
}
